{
 "cells": [
  {
   "cell_type": "markdown",
   "metadata": {},
   "source": [
    "## Lasso & PDS "
   ]
  },
  {
   "cell_type": "code",
   "execution_count": 1,
   "metadata": {},
   "outputs": [],
   "source": [
    "# Imports\n",
    "import pandas as pd\n",
    "import numpy as np\n",
    "import seaborn as sns\n",
    "import matplotlib.pyplot as plt\n",
    "import statistics\n",
    "from sklearn.preprocessing import MinMaxScaler\n",
    "from datetime import datetime\n",
    "from sklearn.preprocessing import RobustScaler\n",
    "from sklearn.base import TransformerMixin\n",
    "from sklearn.linear_model import Lasso\n",
    "from sklearn.linear_model import LinearRegression\n",
    "from sklearn.preprocessing import RobustScaler\n",
    "from sklearn.model_selection import train_test_split\n",
    "import statsmodels.api as sm\n",
    "from numpy.linalg import inv\n",
    "from statsmodels.iolib.summary2 import summary_col\n",
    "from sklearn import metrics"
   ]
  },
  {
   "cell_type": "markdown",
   "metadata": {},
   "source": [
    "## 1. Data"
   ]
  },
  {
   "cell_type": "markdown",
   "metadata": {},
   "source": [
    "### 1.1 Read data set"
   ]
  },
  {
   "cell_type": "code",
   "execution_count": 2,
   "metadata": {},
   "outputs": [],
   "source": [
    "df = pd.read_csv(\"Melbourne_housing_FULL.csv\")"
   ]
  },
  {
   "cell_type": "code",
   "execution_count": 3,
   "metadata": {},
   "outputs": [
    {
     "data": {
      "text/html": [
       "<div>\n",
       "<style scoped>\n",
       "    .dataframe tbody tr th:only-of-type {\n",
       "        vertical-align: middle;\n",
       "    }\n",
       "\n",
       "    .dataframe tbody tr th {\n",
       "        vertical-align: top;\n",
       "    }\n",
       "\n",
       "    .dataframe thead th {\n",
       "        text-align: right;\n",
       "    }\n",
       "</style>\n",
       "<table border=\"1\" class=\"dataframe\">\n",
       "  <thead>\n",
       "    <tr style=\"text-align: right;\">\n",
       "      <th></th>\n",
       "      <th>Suburb</th>\n",
       "      <th>Address</th>\n",
       "      <th>Rooms</th>\n",
       "      <th>Type</th>\n",
       "      <th>Price</th>\n",
       "      <th>Method</th>\n",
       "      <th>SellerG</th>\n",
       "      <th>Date</th>\n",
       "      <th>Distance</th>\n",
       "      <th>Postcode</th>\n",
       "      <th>...</th>\n",
       "      <th>Bathroom</th>\n",
       "      <th>Car</th>\n",
       "      <th>Landsize</th>\n",
       "      <th>BuildingArea</th>\n",
       "      <th>YearBuilt</th>\n",
       "      <th>CouncilArea</th>\n",
       "      <th>Lattitude</th>\n",
       "      <th>Longtitude</th>\n",
       "      <th>Regionname</th>\n",
       "      <th>Propertycount</th>\n",
       "    </tr>\n",
       "  </thead>\n",
       "  <tbody>\n",
       "    <tr>\n",
       "      <th>0</th>\n",
       "      <td>Abbotsford</td>\n",
       "      <td>68 Studley St</td>\n",
       "      <td>2</td>\n",
       "      <td>h</td>\n",
       "      <td>NaN</td>\n",
       "      <td>SS</td>\n",
       "      <td>Jellis</td>\n",
       "      <td>3/09/2016</td>\n",
       "      <td>2.5</td>\n",
       "      <td>3067.0</td>\n",
       "      <td>...</td>\n",
       "      <td>1.0</td>\n",
       "      <td>1.0</td>\n",
       "      <td>126.0</td>\n",
       "      <td>NaN</td>\n",
       "      <td>NaN</td>\n",
       "      <td>Yarra City Council</td>\n",
       "      <td>-37.8014</td>\n",
       "      <td>144.9958</td>\n",
       "      <td>Northern Metropolitan</td>\n",
       "      <td>4019.0</td>\n",
       "    </tr>\n",
       "    <tr>\n",
       "      <th>1</th>\n",
       "      <td>Abbotsford</td>\n",
       "      <td>85 Turner St</td>\n",
       "      <td>2</td>\n",
       "      <td>h</td>\n",
       "      <td>1480000.0</td>\n",
       "      <td>S</td>\n",
       "      <td>Biggin</td>\n",
       "      <td>3/12/2016</td>\n",
       "      <td>2.5</td>\n",
       "      <td>3067.0</td>\n",
       "      <td>...</td>\n",
       "      <td>1.0</td>\n",
       "      <td>1.0</td>\n",
       "      <td>202.0</td>\n",
       "      <td>NaN</td>\n",
       "      <td>NaN</td>\n",
       "      <td>Yarra City Council</td>\n",
       "      <td>-37.7996</td>\n",
       "      <td>144.9984</td>\n",
       "      <td>Northern Metropolitan</td>\n",
       "      <td>4019.0</td>\n",
       "    </tr>\n",
       "    <tr>\n",
       "      <th>2</th>\n",
       "      <td>Abbotsford</td>\n",
       "      <td>25 Bloomburg St</td>\n",
       "      <td>2</td>\n",
       "      <td>h</td>\n",
       "      <td>1035000.0</td>\n",
       "      <td>S</td>\n",
       "      <td>Biggin</td>\n",
       "      <td>4/02/2016</td>\n",
       "      <td>2.5</td>\n",
       "      <td>3067.0</td>\n",
       "      <td>...</td>\n",
       "      <td>1.0</td>\n",
       "      <td>0.0</td>\n",
       "      <td>156.0</td>\n",
       "      <td>79.0</td>\n",
       "      <td>1900.0</td>\n",
       "      <td>Yarra City Council</td>\n",
       "      <td>-37.8079</td>\n",
       "      <td>144.9934</td>\n",
       "      <td>Northern Metropolitan</td>\n",
       "      <td>4019.0</td>\n",
       "    </tr>\n",
       "    <tr>\n",
       "      <th>3</th>\n",
       "      <td>Abbotsford</td>\n",
       "      <td>18/659 Victoria St</td>\n",
       "      <td>3</td>\n",
       "      <td>u</td>\n",
       "      <td>NaN</td>\n",
       "      <td>VB</td>\n",
       "      <td>Rounds</td>\n",
       "      <td>4/02/2016</td>\n",
       "      <td>2.5</td>\n",
       "      <td>3067.0</td>\n",
       "      <td>...</td>\n",
       "      <td>2.0</td>\n",
       "      <td>1.0</td>\n",
       "      <td>0.0</td>\n",
       "      <td>NaN</td>\n",
       "      <td>NaN</td>\n",
       "      <td>Yarra City Council</td>\n",
       "      <td>-37.8114</td>\n",
       "      <td>145.0116</td>\n",
       "      <td>Northern Metropolitan</td>\n",
       "      <td>4019.0</td>\n",
       "    </tr>\n",
       "    <tr>\n",
       "      <th>4</th>\n",
       "      <td>Abbotsford</td>\n",
       "      <td>5 Charles St</td>\n",
       "      <td>3</td>\n",
       "      <td>h</td>\n",
       "      <td>1465000.0</td>\n",
       "      <td>SP</td>\n",
       "      <td>Biggin</td>\n",
       "      <td>4/03/2017</td>\n",
       "      <td>2.5</td>\n",
       "      <td>3067.0</td>\n",
       "      <td>...</td>\n",
       "      <td>2.0</td>\n",
       "      <td>0.0</td>\n",
       "      <td>134.0</td>\n",
       "      <td>150.0</td>\n",
       "      <td>1900.0</td>\n",
       "      <td>Yarra City Council</td>\n",
       "      <td>-37.8093</td>\n",
       "      <td>144.9944</td>\n",
       "      <td>Northern Metropolitan</td>\n",
       "      <td>4019.0</td>\n",
       "    </tr>\n",
       "  </tbody>\n",
       "</table>\n",
       "<p>5 rows × 21 columns</p>\n",
       "</div>"
      ],
      "text/plain": [
       "       Suburb             Address  Rooms Type      Price Method SellerG  \\\n",
       "0  Abbotsford       68 Studley St      2    h        NaN     SS  Jellis   \n",
       "1  Abbotsford        85 Turner St      2    h  1480000.0      S  Biggin   \n",
       "2  Abbotsford     25 Bloomburg St      2    h  1035000.0      S  Biggin   \n",
       "3  Abbotsford  18/659 Victoria St      3    u        NaN     VB  Rounds   \n",
       "4  Abbotsford        5 Charles St      3    h  1465000.0     SP  Biggin   \n",
       "\n",
       "        Date  Distance  Postcode  ...  Bathroom  Car  Landsize  BuildingArea  \\\n",
       "0  3/09/2016       2.5    3067.0  ...       1.0  1.0     126.0           NaN   \n",
       "1  3/12/2016       2.5    3067.0  ...       1.0  1.0     202.0           NaN   \n",
       "2  4/02/2016       2.5    3067.0  ...       1.0  0.0     156.0          79.0   \n",
       "3  4/02/2016       2.5    3067.0  ...       2.0  1.0       0.0           NaN   \n",
       "4  4/03/2017       2.5    3067.0  ...       2.0  0.0     134.0         150.0   \n",
       "\n",
       "   YearBuilt         CouncilArea Lattitude  Longtitude             Regionname  \\\n",
       "0        NaN  Yarra City Council  -37.8014    144.9958  Northern Metropolitan   \n",
       "1        NaN  Yarra City Council  -37.7996    144.9984  Northern Metropolitan   \n",
       "2     1900.0  Yarra City Council  -37.8079    144.9934  Northern Metropolitan   \n",
       "3        NaN  Yarra City Council  -37.8114    145.0116  Northern Metropolitan   \n",
       "4     1900.0  Yarra City Council  -37.8093    144.9944  Northern Metropolitan   \n",
       "\n",
       "  Propertycount  \n",
       "0        4019.0  \n",
       "1        4019.0  \n",
       "2        4019.0  \n",
       "3        4019.0  \n",
       "4        4019.0  \n",
       "\n",
       "[5 rows x 21 columns]"
      ]
     },
     "execution_count": 3,
     "metadata": {},
     "output_type": "execute_result"
    }
   ],
   "source": [
    "# Show the first few rows of the data\n",
    "df.head()"
   ]
  },
  {
   "cell_type": "code",
   "execution_count": 4,
   "metadata": {},
   "outputs": [],
   "source": [
    "df = df.rename(columns={\"Lattitude\": \"Latitude\", 'Longtitude': 'Longitude'})"
   ]
  },
  {
   "cell_type": "code",
   "execution_count": 5,
   "metadata": {},
   "outputs": [
    {
     "name": "stdout",
     "output_type": "stream",
     "text": [
      "<class 'pandas.core.frame.DataFrame'>\n",
      "RangeIndex: 34857 entries, 0 to 34856\n",
      "Data columns (total 21 columns):\n",
      " #   Column         Non-Null Count  Dtype  \n",
      "---  ------         --------------  -----  \n",
      " 0   Suburb         34857 non-null  object \n",
      " 1   Address        34857 non-null  object \n",
      " 2   Rooms          34857 non-null  int64  \n",
      " 3   Type           34857 non-null  object \n",
      " 4   Price          27247 non-null  float64\n",
      " 5   Method         34857 non-null  object \n",
      " 6   SellerG        34857 non-null  object \n",
      " 7   Date           34857 non-null  object \n",
      " 8   Distance       34856 non-null  float64\n",
      " 9   Postcode       34856 non-null  float64\n",
      " 10  Bedroom2       26640 non-null  float64\n",
      " 11  Bathroom       26631 non-null  float64\n",
      " 12  Car            26129 non-null  float64\n",
      " 13  Landsize       23047 non-null  float64\n",
      " 14  BuildingArea   13742 non-null  float64\n",
      " 15  YearBuilt      15551 non-null  float64\n",
      " 16  CouncilArea    34854 non-null  object \n",
      " 17  Latitude       26881 non-null  float64\n",
      " 18  Longitude      26881 non-null  float64\n",
      " 19  Regionname     34854 non-null  object \n",
      " 20  Propertycount  34854 non-null  float64\n",
      "dtypes: float64(12), int64(1), object(8)\n",
      "memory usage: 5.6+ MB\n"
     ]
    }
   ],
   "source": [
    "# View information on columns\n",
    "df.info()"
   ]
  },
  {
   "cell_type": "markdown",
   "metadata": {},
   "source": [
    "### 1.1 Preprocessing"
   ]
  },
  {
   "cell_type": "code",
   "execution_count": 6,
   "metadata": {},
   "outputs": [],
   "source": [
    "# drop columns\n",
    "df = df.drop(['Address', \"Car\",'Bedroom2', \"Distance\",\n",
    "         'Suburb', 'Postcode', 'SellerG', \"BuildingArea\",\n",
    "         'Method', \"Type\", \"Date\", \"Landsize\",\n",
    "        \"Bathroom\", \"YearBuilt\", \"Regionname\", \n",
    "        \"Propertycount\"], axis=1)"
   ]
  },
  {
   "cell_type": "code",
   "execution_count": 7,
   "metadata": {},
   "outputs": [],
   "source": [
    "# log price\n",
    "df[\"Price\"] = np.log1p(df[\"Price\"])"
   ]
  },
  {
   "cell_type": "code",
   "execution_count": 8,
   "metadata": {},
   "outputs": [
    {
     "data": {
      "text/plain": [
       "Text(0.0, 1.0, 'Price by Location')"
      ]
     },
     "execution_count": 8,
     "metadata": {},
     "output_type": "execute_result"
    },
    {
     "data": {
      "image/png": "[encoded data removed]",
      "text/plain": [
       "<Figure size 1080x720 with 2 Axes>"
      ]
     },
     "metadata": {
      "needs_background": "light"
     },
     "output_type": "display_data"
    }
   ],
   "source": [
    "# plot map with price\n",
    "df.plot(kind=\"scatter\", x=\"Longitude\", y=\"Latitude\", alpha=0.5,\n",
    "c=df.Price, cmap=plt.get_cmap(\"jet\"), figsize=(15,10)) \n",
    "plt.xlabel(\"Longitude\", fontsize=14)\n",
    "plt.ylabel(\"Latitude\", fontsize=14)\n",
    "title = \"Price by Location\"\n",
    "plt.title(title, loc='left', fontsize=20)"
   ]
  },
  {
   "cell_type": "code",
   "execution_count": 9,
   "metadata": {},
   "outputs": [],
   "source": [
    "# normalise latitude & longitude\n",
    "from sklearn.preprocessing import MinMaxScaler\n",
    "scaler = MinMaxScaler()\n",
    "df[[\"Latitude\", \"Longitude\"]] = scaler.fit_transform(df[[\"Latitude\", \"Longitude\"]])"
   ]
  },
  {
   "cell_type": "code",
   "execution_count": 10,
   "metadata": {},
   "outputs": [],
   "source": [
    "# drop NAN\n",
    "df = df.dropna(how='any', subset=['Price'])\n",
    "df=df.dropna(how='any', subset=['Latitude'])\n",
    "df=df.dropna(how='any', subset=['Longitude'])"
   ]
  },
  {
   "cell_type": "code",
   "execution_count": 11,
   "metadata": {},
   "outputs": [],
   "source": [
    "# get dummies\n",
    "df = pd.get_dummies(df, columns = [\"CouncilArea\"])"
   ]
  },
  {
   "cell_type": "code",
   "execution_count": 12,
   "metadata": {},
   "outputs": [
    {
     "data": {
      "text/plain": [
       "['Rooms',\n",
       " 'Price',\n",
       " 'Latitude',\n",
       " 'Longitude',\n",
       " 'CouncilArea_Banyule City Council',\n",
       " 'CouncilArea_Bayside City Council',\n",
       " 'CouncilArea_Boroondara City Council',\n",
       " 'CouncilArea_Brimbank City Council',\n",
       " 'CouncilArea_Cardinia Shire Council',\n",
       " 'CouncilArea_Casey City Council',\n",
       " 'CouncilArea_Darebin City Council',\n",
       " 'CouncilArea_Frankston City Council',\n",
       " 'CouncilArea_Glen Eira City Council',\n",
       " 'CouncilArea_Greater Dandenong City Council',\n",
       " 'CouncilArea_Hobsons Bay City Council',\n",
       " 'CouncilArea_Hume City Council',\n",
       " 'CouncilArea_Kingston City Council',\n",
       " 'CouncilArea_Knox City Council',\n",
       " 'CouncilArea_Macedon Ranges Shire Council',\n",
       " 'CouncilArea_Manningham City Council',\n",
       " 'CouncilArea_Maribyrnong City Council',\n",
       " 'CouncilArea_Maroondah City Council',\n",
       " 'CouncilArea_Melbourne City Council',\n",
       " 'CouncilArea_Melton City Council',\n",
       " 'CouncilArea_Mitchell Shire Council',\n",
       " 'CouncilArea_Monash City Council',\n",
       " 'CouncilArea_Moonee Valley City Council',\n",
       " 'CouncilArea_Moorabool Shire Council',\n",
       " 'CouncilArea_Moreland City Council',\n",
       " 'CouncilArea_Nillumbik Shire Council',\n",
       " 'CouncilArea_Port Phillip City Council',\n",
       " 'CouncilArea_Stonnington City Council',\n",
       " 'CouncilArea_Whitehorse City Council',\n",
       " 'CouncilArea_Whittlesea City Council',\n",
       " 'CouncilArea_Wyndham City Council',\n",
       " 'CouncilArea_Yarra City Council',\n",
       " 'CouncilArea_Yarra Ranges Shire Council']"
      ]
     },
     "execution_count": 12,
     "metadata": {},
     "output_type": "execute_result"
    }
   ],
   "source": [
    "list(df.columns)"
   ]
  },
  {
   "cell_type": "code",
   "execution_count": 13,
   "metadata": {},
   "outputs": [],
   "source": [
    "# rearrange columns \n",
    "df = df[['Price',\n",
    " 'Rooms',\n",
    " 'Latitude',\n",
    " 'Longitude',\n",
    " 'CouncilArea_Banyule City Council',\n",
    " 'CouncilArea_Bayside City Council',\n",
    " 'CouncilArea_Boroondara City Council',\n",
    " 'CouncilArea_Brimbank City Council',\n",
    " 'CouncilArea_Cardinia Shire Council',\n",
    " 'CouncilArea_Casey City Council',\n",
    " 'CouncilArea_Darebin City Council',\n",
    " 'CouncilArea_Frankston City Council',\n",
    " 'CouncilArea_Glen Eira City Council',\n",
    " 'CouncilArea_Greater Dandenong City Council',\n",
    " 'CouncilArea_Hobsons Bay City Council',\n",
    " 'CouncilArea_Hume City Council',\n",
    " 'CouncilArea_Kingston City Council',\n",
    " 'CouncilArea_Knox City Council',\n",
    " 'CouncilArea_Macedon Ranges Shire Council',\n",
    " 'CouncilArea_Manningham City Council',\n",
    " 'CouncilArea_Maribyrnong City Council',\n",
    " 'CouncilArea_Maroondah City Council',\n",
    " 'CouncilArea_Melbourne City Council',\n",
    " 'CouncilArea_Melton City Council',\n",
    " 'CouncilArea_Mitchell Shire Council',\n",
    " 'CouncilArea_Monash City Council',\n",
    " 'CouncilArea_Moonee Valley City Council',\n",
    " 'CouncilArea_Moorabool Shire Council',\n",
    " 'CouncilArea_Moreland City Council',\n",
    " 'CouncilArea_Nillumbik Shire Council',\n",
    " 'CouncilArea_Port Phillip City Council',\n",
    " 'CouncilArea_Stonnington City Council',\n",
    " 'CouncilArea_Whitehorse City Council',\n",
    " 'CouncilArea_Whittlesea City Council',\n",
    " 'CouncilArea_Wyndham City Council',\n",
    " 'CouncilArea_Yarra City Council',\n",
    " 'CouncilArea_Yarra Ranges Shire Council']]"
   ]
  },
  {
   "cell_type": "code",
   "execution_count": 14,
   "metadata": {
    "scrolled": true
   },
   "outputs": [
    {
     "data": {
      "text/plain": [
       "Price                                         0\n",
       "Rooms                                         0\n",
       "Latitude                                      0\n",
       "Longitude                                     0\n",
       "CouncilArea_Banyule City Council              0\n",
       "CouncilArea_Bayside City Council              0\n",
       "CouncilArea_Boroondara City Council           0\n",
       "CouncilArea_Brimbank City Council             0\n",
       "CouncilArea_Cardinia Shire Council            0\n",
       "CouncilArea_Casey City Council                0\n",
       "CouncilArea_Darebin City Council              0\n",
       "CouncilArea_Frankston City Council            0\n",
       "CouncilArea_Glen Eira City Council            0\n",
       "CouncilArea_Greater Dandenong City Council    0\n",
       "CouncilArea_Hobsons Bay City Council          0\n",
       "CouncilArea_Hume City Council                 0\n",
       "CouncilArea_Kingston City Council             0\n",
       "CouncilArea_Knox City Council                 0\n",
       "CouncilArea_Macedon Ranges Shire Council      0\n",
       "CouncilArea_Manningham City Council           0\n",
       "CouncilArea_Maribyrnong City Council          0\n",
       "CouncilArea_Maroondah City Council            0\n",
       "CouncilArea_Melbourne City Council            0\n",
       "CouncilArea_Melton City Council               0\n",
       "CouncilArea_Mitchell Shire Council            0\n",
       "CouncilArea_Monash City Council               0\n",
       "CouncilArea_Moonee Valley City Council        0\n",
       "CouncilArea_Moorabool Shire Council           0\n",
       "CouncilArea_Moreland City Council             0\n",
       "CouncilArea_Nillumbik Shire Council           0\n",
       "CouncilArea_Port Phillip City Council         0\n",
       "CouncilArea_Stonnington City Council          0\n",
       "CouncilArea_Whitehorse City Council           0\n",
       "CouncilArea_Whittlesea City Council           0\n",
       "CouncilArea_Wyndham City Council              0\n",
       "CouncilArea_Yarra City Council                0\n",
       "CouncilArea_Yarra Ranges Shire Council        0\n",
       "dtype: int64"
      ]
     },
     "execution_count": 14,
     "metadata": {},
     "output_type": "execute_result"
    }
   ],
   "source": [
    "df.isnull().sum()"
   ]
  },
  {
   "cell_type": "code",
   "execution_count": 15,
   "metadata": {},
   "outputs": [
    {
     "data": {
      "text/plain": [
       "(20993, 37)"
      ]
     },
     "execution_count": 15,
     "metadata": {},
     "output_type": "execute_result"
    }
   ],
   "source": [
    "df.shape"
   ]
  },
  {
   "cell_type": "markdown",
   "metadata": {},
   "source": [
    "### 1.2 Data analysis"
   ]
  },
  {
   "cell_type": "code",
   "execution_count": 16,
   "metadata": {},
   "outputs": [
    {
     "data": {
      "text/plain": [
       "Text(0.0, 1.0, 'Distribution Log Price')"
      ]
     },
     "execution_count": 16,
     "metadata": {},
     "output_type": "execute_result"
    },
    {
     "data": {
      "image/png": "[encoded data removed]",
      "text/plain": [
       "<Figure size 432x288 with 1 Axes>"
      ]
     },
     "metadata": {
      "needs_background": "light"
     },
     "output_type": "display_data"
    }
   ],
   "source": [
    "# plot dist prices\n",
    "Prices=df['Price']\n",
    "sns.distplot(Prices, color=\"lightcoral\") \n",
    "title = \"Distribution Log Price\"\n",
    "plt.title(title, loc='left', fontsize=15)"
   ]
  },
  {
   "cell_type": "code",
   "execution_count": 18,
   "metadata": {},
   "outputs": [
    {
     "name": "stdout",
     "output_type": "stream",
     "text": [
      "Skew:  0.2710092784765611\n",
      "Kurt:  0.1032515696832279\n"
     ]
    }
   ],
   "source": [
    "# skew & Kurt price\n",
    "print('Skew: ',df['Price'].astype(float).skew())\n",
    "print('Kurt: ',df['Price'].astype(float).kurt())"
   ]
  },
  {
   "cell_type": "code",
   "execution_count": 17,
   "metadata": {},
   "outputs": [
    {
     "data": {
      "text/plain": [
       "Text(0.0, 1.0, 'Distribution No. of Rooms')"
      ]
     },
     "execution_count": 17,
     "metadata": {},
     "output_type": "execute_result"
    },
    {
     "data": {
      "image/png": "[encoded data removed]",
      "text/plain": [
       "<Figure size 432x288 with 1 Axes>"
      ]
     },
     "metadata": {
      "needs_background": "light"
     },
     "output_type": "display_data"
    }
   ],
   "source": [
    "# plot dist rooms\n",
    "Room=df['Rooms']\n",
    "sns.distplot(Room, color = \"lightcoral\") \n",
    "title = \"Distribution No. of Rooms\"\n",
    "plt.title(title, loc='left', fontsize=15)"
   ]
  },
  {
   "cell_type": "code",
   "execution_count": 19,
   "metadata": {},
   "outputs": [
    {
     "data": {
      "text/plain": [
       "count    20993.000000\n",
       "mean         3.059163\n",
       "std          0.949881\n",
       "min          1.000000\n",
       "25%          2.000000\n",
       "50%          3.000000\n",
       "75%          4.000000\n",
       "max         16.000000\n",
       "Name: Rooms, dtype: float64"
      ]
     },
     "execution_count": 19,
     "metadata": {},
     "output_type": "execute_result"
    }
   ],
   "source": [
    "df[\"Rooms\"].describe()"
   ]
  },
  {
   "cell_type": "code",
   "execution_count": 20,
   "metadata": {},
   "outputs": [
    {
     "data": {
      "text/plain": [
       "Text(0.0, 1.0, 'Scatter Plot')"
      ]
     },
     "execution_count": 20,
     "metadata": {},
     "output_type": "execute_result"
    },
    {
     "data": {
      "image/png": "[encoded data removed]",
      "text/plain": [
       "<Figure size 432x288 with 1 Axes>"
      ]
     },
     "metadata": {
      "needs_background": "light"
     },
     "output_type": "display_data"
    }
   ],
   "source": [
    "# scatter plot Rooms & log prices\n",
    "plt.scatter('Rooms', 'Price', data=df, color=\"lightcoral\")\n",
    "plt.show\n",
    "title = \"Scatter Plot\"\n",
    "plt.xlabel(\"Rooms\")\n",
    "plt.ylabel(\"Log Prices\")\n",
    "plt.title(title, loc='left', fontsize=15)"
   ]
  },
  {
   "cell_type": "code",
   "execution_count": null,
   "metadata": {
    "scrolled": true
   },
   "outputs": [],
   "source": [
    "# plot correlation matrix\n",
    "plt.figure(figsize=(30,20))\n",
    "corr = df.corr()\n",
    "mask = np.triu(np.ones_like(corr, dtype=np.bool))\n",
    "cmap = sns.diverging_palette(220, 10, as_cmap=True)\n",
    "corrMap = sns.heatmap(df.corr(),annot=True,mask=mask,cmap=\"RdPu\")\n",
    "corrMap.set_xticklabels(corrMap.get_xticklabels(), rotation = 75)\n",
    "title = \"Correlation Matrix\"\n",
    "plt.title(title, loc='left', fontsize=24)\n",
    "plt.show()"
   ]
  },
  {
   "cell_type": "code",
   "execution_count": null,
   "metadata": {},
   "outputs": [],
   "source": [
    "# impute median \n",
    "#from sklearn.impute import SimpleImputer\n",
    "#imp = SimpleImputer(missing_values=np.NaN, strategy=\"median\")\n",
    "#df[\"Car\"] = imp.fit_transform(df[[\"Car\"]]).ravel()\n",
    "#df[\"BuildingArea\"] = imp.fit_transform(df[[\"BuildingArea\"]]).ravel()\n",
    "#df[\"Landsize\"] = imp.fit_transform(df[[\"Landsize\"]]).ravel()\n"
   ]
  },
  {
   "cell_type": "markdown",
   "metadata": {},
   "source": [
    "## 2. Inference  OLS & PDS"
   ]
  },
  {
   "cell_type": "markdown",
   "metadata": {},
   "source": [
    "### 2.1 OLS "
   ]
  },
  {
   "cell_type": "code",
   "execution_count": 21,
   "metadata": {},
   "outputs": [],
   "source": [
    "# Add constant term to the dataset -> for OLS, we need a constant to not make our model biased\n",
    "\n",
    "df['const'] = 1"
   ]
  },
  {
   "cell_type": "code",
   "execution_count": 22,
   "metadata": {},
   "outputs": [],
   "source": [
    "# Create lists of variables to be used in each regression\n",
    "XRo = df[[\"const\",\"Rooms\"]]\n",
    "XRo2 = df[[\"const\", \"Rooms\", 'Latitude', 'Longitude']]\n",
    "XRo3 = df[[\"const\",'Rooms', 'Latitude', 'Longitude', 'CouncilArea_Banyule City Council', 'CouncilArea_Bayside City Council', 'CouncilArea_Boroondara City Council', 'CouncilArea_Brimbank City Council', 'CouncilArea_Cardinia Shire Council', 'CouncilArea_Casey City Council', 'CouncilArea_Darebin City Council', 'CouncilArea_Frankston City Council', 'CouncilArea_Glen Eira City Council', 'CouncilArea_Greater Dandenong City Council', 'CouncilArea_Hobsons Bay City Council', 'CouncilArea_Hume City Council', 'CouncilArea_Kingston City Council', 'CouncilArea_Knox City Council', 'CouncilArea_Macedon Ranges Shire Council', 'CouncilArea_Manningham City Council', 'CouncilArea_Maribyrnong City Council', 'CouncilArea_Maroondah City Council', 'CouncilArea_Melbourne City Council', 'CouncilArea_Melton City Council', 'CouncilArea_Mitchell Shire Council', 'CouncilArea_Monash City Council', 'CouncilArea_Moonee Valley City Council', 'CouncilArea_Moorabool Shire Council', 'CouncilArea_Moreland City Council', 'CouncilArea_Nillumbik Shire Council', 'CouncilArea_Port Phillip City Council', 'CouncilArea_Stonnington City Council', 'CouncilArea_Whitehorse City Council', 'CouncilArea_Whittlesea City Council', 'CouncilArea_Wyndham City Council', 'CouncilArea_Yarra City Council']]\n",
    "y = df['Price']\n",
    "\n",
    "# Estimate an OLS regression for each set of variables\n",
    "regRo = sm.OLS(y, XRo).fit()\n",
    "regRo2 = sm.OLS(y, XRo2).fit()\n",
    "regRo3 = sm.OLS(y, XRo3).fit()"
   ]
  },
  {
   "cell_type": "code",
   "execution_count": 23,
   "metadata": {},
   "outputs": [
    {
     "data": {
      "text/html": [
       "<table class=\"simpletable\">\n",
       "<tr>\n",
       "                       <td></td>                        <th>Model 1</th>    <th>Model 2</th>    <th>Model 3</th> \n",
       "</tr>\n",
       "<tr>\n",
       "  <th>const</th>                                      <td>12.9321***</td> <td>13.0344***</td> <td>13.2394***</td>\n",
       "</tr>\n",
       "<tr>\n",
       "  <th></th>                                            <td>(0.0104)</td>   <td>(0.0242)</td>   <td>(0.1012)</td> \n",
       "</tr>\n",
       "<tr>\n",
       "  <th>Rooms</th>                                       <td>0.2711***</td>  <td>0.2667***</td>  <td>0.3205***</td>\n",
       "</tr>\n",
       "<tr>\n",
       "  <th></th>                                            <td>(0.0033)</td>   <td>(0.0031)</td>   <td>(0.0026)</td> \n",
       "</tr>\n",
       "<tr>\n",
       "  <th>Latitude</th>                                        <td></td>      <td>-0.9029***</td> <td>-1.6276***</td>\n",
       "</tr>\n",
       "<tr>\n",
       "  <th></th>                                                <td></td>       <td>(0.0273)</td>   <td>(0.0767)</td> \n",
       "</tr>\n",
       "<tr>\n",
       "  <th>CouncilArea_Banyule City Council</th>                <td></td>           <td></td>       <td>0.3601***</td>\n",
       "</tr>\n",
       "<tr>\n",
       "  <th></th>                                                <td></td>           <td></td>       <td>(0.0489)</td> \n",
       "</tr>\n",
       "<tr>\n",
       "  <th>CouncilArea_Bayside City Council</th>                <td></td>           <td></td>       <td>0.4287***</td>\n",
       "</tr>\n",
       "<tr>\n",
       "  <th></th>                                                <td></td>           <td></td>       <td>(0.0555)</td> \n",
       "</tr>\n",
       "<tr>\n",
       "  <th>CouncilArea_Boroondara City Council</th>             <td></td>           <td></td>       <td>0.6772***</td>\n",
       "</tr>\n",
       "<tr>\n",
       "  <th></th>                                                <td></td>           <td></td>       <td>(0.0498)</td> \n",
       "</tr>\n",
       "<tr>\n",
       "  <th>CouncilArea_Brimbank City Council</th>               <td></td>           <td></td>        <td>0.0189</td>  \n",
       "</tr>\n",
       "<tr>\n",
       "  <th></th>                                                <td></td>           <td></td>       <td>(0.0601)</td> \n",
       "</tr>\n",
       "<tr>\n",
       "  <th>CouncilArea_Cardinia Shire Council</th>              <td></td>           <td></td>      <td>-0.9119***</td>\n",
       "</tr>\n",
       "<tr>\n",
       "  <th></th>                                                <td></td>           <td></td>       <td>(0.0873)</td> \n",
       "</tr>\n",
       "<tr>\n",
       "  <th>CouncilArea_Casey City Council</th>                  <td></td>           <td></td>      <td>-0.6157***</td>\n",
       "</tr>\n",
       "<tr>\n",
       "  <th></th>                                                <td></td>           <td></td>       <td>(0.0588)</td> \n",
       "</tr>\n",
       "<tr>\n",
       "  <th>CouncilArea_Darebin City Council</th>                <td></td>           <td></td>       <td>0.4235***</td>\n",
       "</tr>\n",
       "<tr>\n",
       "  <th></th>                                                <td></td>           <td></td>       <td>(0.0513)</td> \n",
       "</tr>\n",
       "<tr>\n",
       "  <th>CouncilArea_Frankston City Council</th>              <td></td>           <td></td>      <td>-0.7953***</td>\n",
       "</tr>\n",
       "<tr>\n",
       "  <th></th>                                                <td></td>           <td></td>       <td>(0.0646)</td> \n",
       "</tr>\n",
       "<tr>\n",
       "  <th>CouncilArea_Glen Eira City Council</th>              <td></td>           <td></td>       <td>0.2369***</td>\n",
       "</tr>\n",
       "<tr>\n",
       "  <th></th>                                                <td></td>           <td></td>       <td>(0.0531)</td> \n",
       "</tr>\n",
       "<tr>\n",
       "  <th>CouncilArea_Greater Dandenong City Council</th>      <td></td>           <td></td>      <td>-0.3582***</td>\n",
       "</tr>\n",
       "<tr>\n",
       "  <th></th>                                                <td></td>           <td></td>       <td>(0.0565)</td> \n",
       "</tr>\n",
       "<tr>\n",
       "  <th>CouncilArea_Hobsons Bay City Council</th>            <td></td>           <td></td>       <td>0.2113***</td>\n",
       "</tr>\n",
       "<tr>\n",
       "  <th></th>                                                <td></td>           <td></td>       <td>(0.0606)</td> \n",
       "</tr>\n",
       "<tr>\n",
       "  <th>CouncilArea_Hume City Council</th>                   <td></td>           <td></td>        <td>0.0674</td>  \n",
       "</tr>\n",
       "<tr>\n",
       "  <th></th>                                                <td></td>           <td></td>       <td>(0.0562)</td> \n",
       "</tr>\n",
       "<tr>\n",
       "  <th>CouncilArea_Kingston City Council</th>               <td></td>           <td></td>        <td>-0.0881</td> \n",
       "</tr>\n",
       "<tr>\n",
       "  <th></th>                                                <td></td>           <td></td>       <td>(0.0553)</td> \n",
       "</tr>\n",
       "<tr>\n",
       "  <th>CouncilArea_Knox City Council</th>                   <td></td>           <td></td>       <td>-0.0840*</td> \n",
       "</tr>\n",
       "<tr>\n",
       "  <th></th>                                                <td></td>           <td></td>       <td>(0.0503)</td> \n",
       "</tr>\n",
       "<tr>\n",
       "  <th>CouncilArea_Macedon Ranges Shire Council</th>        <td></td>           <td></td>       <td>0.5514***</td>\n",
       "</tr>\n",
       "<tr>\n",
       "  <th></th>                                                <td></td>           <td></td>       <td>(0.0941)</td> \n",
       "</tr>\n",
       "<tr>\n",
       "  <th>CouncilArea_Manningham City Council</th>             <td></td>           <td></td>       <td>0.4145***</td>\n",
       "</tr>\n",
       "<tr>\n",
       "  <th></th>                                                <td></td>           <td></td>       <td>(0.0482)</td> \n",
       "</tr>\n",
       "<tr>\n",
       "  <th>CouncilArea_Maribyrnong City Council</th>            <td></td>           <td></td>       <td>0.2288***</td>\n",
       "</tr>\n",
       "<tr>\n",
       "  <th></th>                                                <td></td>           <td></td>       <td>(0.0578)</td> \n",
       "</tr>\n",
       "<tr>\n",
       "  <th>CouncilArea_Maroondah City Council</th>              <td></td>           <td></td>       <td>0.1463***</td>\n",
       "</tr>\n",
       "<tr>\n",
       "  <th></th>                                                <td></td>           <td></td>       <td>(0.0484)</td> \n",
       "</tr>\n",
       "<tr>\n",
       "  <th>CouncilArea_Melbourne City Council</th>              <td></td>           <td></td>       <td>0.4993***</td>\n",
       "</tr>\n",
       "<tr>\n",
       "  <th></th>                                                <td></td>           <td></td>       <td>(0.0545)</td> \n",
       "</tr>\n",
       "<tr>\n",
       "  <th>CouncilArea_Melton City Council</th>                 <td></td>           <td></td>      <td>-0.2774***</td>\n",
       "</tr>\n",
       "<tr>\n",
       "  <th></th>                                                <td></td>           <td></td>       <td>(0.0733)</td> \n",
       "</tr>\n",
       "<tr>\n",
       "  <th>CouncilArea_Mitchell Shire Council</th>              <td></td>           <td></td>       <td>0.2587**</td> \n",
       "</tr>\n",
       "<tr>\n",
       "  <th></th>                                                <td></td>           <td></td>       <td>(0.1211)</td> \n",
       "</tr>\n",
       "<tr>\n",
       "  <th>CouncilArea_Monash City Council</th>                 <td></td>           <td></td>       <td>0.2302***</td>\n",
       "</tr>\n",
       "<tr>\n",
       "  <th></th>                                                <td></td>           <td></td>       <td>(0.0501)</td> \n",
       "</tr>\n",
       "<tr>\n",
       "  <th>CouncilArea_Moonee Valley City Council</th>          <td></td>           <td></td>       <td>0.4593***</td>\n",
       "</tr>\n",
       "<tr>\n",
       "  <th></th>                                                <td></td>           <td></td>       <td>(0.0559)</td> \n",
       "</tr>\n",
       "<tr>\n",
       "  <th>CouncilArea_Moorabool Shire Council</th>             <td></td>           <td></td>        <td>-0.1338</td> \n",
       "</tr>\n",
       "<tr>\n",
       "  <th></th>                                                <td></td>           <td></td>       <td>(0.1868)</td> \n",
       "</tr>\n",
       "<tr>\n",
       "  <th>CouncilArea_Moreland City Council</th>               <td></td>           <td></td>       <td>0.3864***</td>\n",
       "</tr>\n",
       "<tr>\n",
       "  <th></th>                                                <td></td>           <td></td>       <td>(0.0537)</td> \n",
       "</tr>\n",
       "<tr>\n",
       "  <th>CouncilArea_Nillumbik Shire Council</th>             <td></td>           <td></td>       <td>0.1924***</td>\n",
       "</tr>\n",
       "<tr>\n",
       "  <th></th>                                                <td></td>           <td></td>       <td>(0.0635)</td> \n",
       "</tr>\n",
       "<tr>\n",
       "  <th>CouncilArea_Port Phillip City Council</th>           <td></td>           <td></td>       <td>0.4677***</td>\n",
       "</tr>\n",
       "<tr>\n",
       "  <th></th>                                                <td></td>           <td></td>       <td>(0.0551)</td> \n",
       "</tr>\n",
       "<tr>\n",
       "  <th>CouncilArea_Stonnington City Council</th>            <td></td>           <td></td>       <td>0.6149***</td>\n",
       "</tr>\n",
       "<tr>\n",
       "  <th></th>                                                <td></td>           <td></td>       <td>(0.0532)</td> \n",
       "</tr>\n",
       "<tr>\n",
       "  <th>CouncilArea_Whitehorse City Council</th>             <td></td>           <td></td>       <td>0.3259***</td>\n",
       "</tr>\n",
       "<tr>\n",
       "  <th></th>                                                <td></td>           <td></td>       <td>(0.0497)</td> \n",
       "</tr>\n",
       "<tr>\n",
       "  <th>CouncilArea_Whittlesea City Council</th>             <td></td>           <td></td>       <td>0.1189**</td> \n",
       "</tr>\n",
       "<tr>\n",
       "  <th></th>                                                <td></td>           <td></td>       <td>(0.0511)</td> \n",
       "</tr>\n",
       "<tr>\n",
       "  <th>CouncilArea_Wyndham City Council</th>                <td></td>           <td></td>      <td>-0.4751***</td>\n",
       "</tr>\n",
       "<tr>\n",
       "  <th></th>                                                <td></td>           <td></td>       <td>(0.0723)</td> \n",
       "</tr>\n",
       "<tr>\n",
       "  <th>CouncilArea_Yarra City Council</th>                  <td></td>           <td></td>       <td>0.6053***</td>\n",
       "</tr>\n",
       "<tr>\n",
       "  <th></th>                                                <td></td>           <td></td>       <td>(0.0533)</td> \n",
       "</tr>\n",
       "<tr>\n",
       "  <th>Longitude</th>                                       <td></td>       <td>0.6615***</td>   <td>0.0241</td>  \n",
       "</tr>\n",
       "<tr>\n",
       "  <th></th>                                                <td></td>       <td>(0.0287)</td>   <td>(0.0866)</td> \n",
       "</tr>\n",
       "<tr>\n",
       "  <th>R-squared</th>                                    <td>0.2481</td>     <td>0.3271</td>     <td>0.5772</td>  \n",
       "</tr>\n",
       "<tr>\n",
       "  <th></th>                                             <td>0.2482</td>     <td>0.3272</td>     <td>0.5779</td>  \n",
       "</tr>\n",
       "<tr>\n",
       "  <th>No. observations</th>                              <td>20993</td>      <td>20993</td>      <td>20993</td>  \n",
       "</tr>\n",
       "</table>"
      ],
      "text/plain": [
       "<class 'statsmodels.iolib.summary2.Summary'>\n",
       "\"\"\"\n",
       "\n",
       "===========================================================================\n",
       "                                            Model 1    Model 2    Model 3  \n",
       "---------------------------------------------------------------------------\n",
       "const                                      12.9321*** 13.0344*** 13.2394***\n",
       "                                           (0.0104)   (0.0242)   (0.1012)  \n",
       "Rooms                                      0.2711***  0.2667***  0.3205*** \n",
       "                                           (0.0033)   (0.0031)   (0.0026)  \n",
       "Latitude                                              -0.9029*** -1.6276***\n",
       "                                                      (0.0273)   (0.0767)  \n",
       "CouncilArea_Banyule City Council                                 0.3601*** \n",
       "                                                                 (0.0489)  \n",
       "CouncilArea_Bayside City Council                                 0.4287*** \n",
       "                                                                 (0.0555)  \n",
       "CouncilArea_Boroondara City Council                              0.6772*** \n",
       "                                                                 (0.0498)  \n",
       "CouncilArea_Brimbank City Council                                0.0189    \n",
       "                                                                 (0.0601)  \n",
       "CouncilArea_Cardinia Shire Council                               -0.9119***\n",
       "                                                                 (0.0873)  \n",
       "CouncilArea_Casey City Council                                   -0.6157***\n",
       "                                                                 (0.0588)  \n",
       "CouncilArea_Darebin City Council                                 0.4235*** \n",
       "                                                                 (0.0513)  \n",
       "CouncilArea_Frankston City Council                               -0.7953***\n",
       "                                                                 (0.0646)  \n",
       "CouncilArea_Glen Eira City Council                               0.2369*** \n",
       "                                                                 (0.0531)  \n",
       "CouncilArea_Greater Dandenong City Council                       -0.3582***\n",
       "                                                                 (0.0565)  \n",
       "CouncilArea_Hobsons Bay City Council                             0.2113*** \n",
       "                                                                 (0.0606)  \n",
       "CouncilArea_Hume City Council                                    0.0674    \n",
       "                                                                 (0.0562)  \n",
       "CouncilArea_Kingston City Council                                -0.0881   \n",
       "                                                                 (0.0553)  \n",
       "CouncilArea_Knox City Council                                    -0.0840*  \n",
       "                                                                 (0.0503)  \n",
       "CouncilArea_Macedon Ranges Shire Council                         0.5514*** \n",
       "                                                                 (0.0941)  \n",
       "CouncilArea_Manningham City Council                              0.4145*** \n",
       "                                                                 (0.0482)  \n",
       "CouncilArea_Maribyrnong City Council                             0.2288*** \n",
       "                                                                 (0.0578)  \n",
       "CouncilArea_Maroondah City Council                               0.1463*** \n",
       "                                                                 (0.0484)  \n",
       "CouncilArea_Melbourne City Council                               0.4993*** \n",
       "                                                                 (0.0545)  \n",
       "CouncilArea_Melton City Council                                  -0.2774***\n",
       "                                                                 (0.0733)  \n",
       "CouncilArea_Mitchell Shire Council                               0.2587**  \n",
       "                                                                 (0.1211)  \n",
       "CouncilArea_Monash City Council                                  0.2302*** \n",
       "                                                                 (0.0501)  \n",
       "CouncilArea_Moonee Valley City Council                           0.4593*** \n",
       "                                                                 (0.0559)  \n",
       "CouncilArea_Moorabool Shire Council                              -0.1338   \n",
       "                                                                 (0.1868)  \n",
       "CouncilArea_Moreland City Council                                0.3864*** \n",
       "                                                                 (0.0537)  \n",
       "CouncilArea_Nillumbik Shire Council                              0.1924*** \n",
       "                                                                 (0.0635)  \n",
       "CouncilArea_Port Phillip City Council                            0.4677*** \n",
       "                                                                 (0.0551)  \n",
       "CouncilArea_Stonnington City Council                             0.6149*** \n",
       "                                                                 (0.0532)  \n",
       "CouncilArea_Whitehorse City Council                              0.3259*** \n",
       "                                                                 (0.0497)  \n",
       "CouncilArea_Whittlesea City Council                              0.1189**  \n",
       "                                                                 (0.0511)  \n",
       "CouncilArea_Wyndham City Council                                 -0.4751***\n",
       "                                                                 (0.0723)  \n",
       "CouncilArea_Yarra City Council                                   0.6053*** \n",
       "                                                                 (0.0533)  \n",
       "Longitude                                             0.6615***  0.0241    \n",
       "                                                      (0.0287)   (0.0866)  \n",
       "R-squared                                  0.2481     0.3271     0.5772    \n",
       "                                           0.2482     0.3272     0.5779    \n",
       "No. observations                           20993      20993      20993     \n",
       "===========================================================================\n",
       "Standard errors in parentheses.\n",
       "* p<.1, ** p<.05, ***p<.01\n",
       "\"\"\""
      ]
     },
     "execution_count": 23,
     "metadata": {},
     "output_type": "execute_result"
    }
   ],
   "source": [
    "# summary OLS\n",
    "info_dict={'No. observations' : lambda x: f\"{int(x.nobs):d}\"}\n",
    "\n",
    "results_table = summary_col(results=[regRo,regRo2,regRo3],\n",
    "                            float_format='%0.4f',\n",
    "                            stars = True,\n",
    "                            model_names=['Model 1','Model 2','Model 3'],\n",
    "                            info_dict=info_dict,\n",
    "                            regressor_order=['const',\"Rooms\",'Latitude','Latitude2'])\n",
    "\n",
    "results_table"
   ]
  },
  {
   "cell_type": "markdown",
   "metadata": {},
   "source": [
    "### 2.2 PDS "
   ]
  },
  {
   "cell_type": "code",
   "execution_count": 24,
   "metadata": {},
   "outputs": [],
   "source": [
    "# Variables\n",
    "\n",
    "X = df[\"Rooms\"]\n",
    "Z = df[['Latitude', 'Longitude', 'CouncilArea_Banyule City Council', 'CouncilArea_Bayside City Council', 'CouncilArea_Boroondara City Council', 'CouncilArea_Brimbank City Council', 'CouncilArea_Cardinia Shire Council', 'CouncilArea_Casey City Council', 'CouncilArea_Darebin City Council', 'CouncilArea_Frankston City Council', 'CouncilArea_Glen Eira City Council', 'CouncilArea_Greater Dandenong City Council', 'CouncilArea_Hobsons Bay City Council', 'CouncilArea_Hume City Council', 'CouncilArea_Kingston City Council', 'CouncilArea_Knox City Council', 'CouncilArea_Macedon Ranges Shire Council', 'CouncilArea_Manningham City Council', 'CouncilArea_Maribyrnong City Council', 'CouncilArea_Maroondah City Council', 'CouncilArea_Melbourne City Council', 'CouncilArea_Melton City Council', 'CouncilArea_Mitchell Shire Council', 'CouncilArea_Monash City Council', 'CouncilArea_Moonee Valley City Council', 'CouncilArea_Moorabool Shire Council', 'CouncilArea_Moreland City Council', 'CouncilArea_Nillumbik Shire Council', 'CouncilArea_Port Phillip City Council', 'CouncilArea_Stonnington City Council', 'CouncilArea_Whitehorse City Council', 'CouncilArea_Whittlesea City Council', 'CouncilArea_Wyndham City Council', 'CouncilArea_Yarra City Council','CouncilArea_Yarra Ranges Shire Council']]\n",
    "y = df[\"Price\"]"
   ]
  },
  {
   "cell_type": "code",
   "execution_count": 25,
   "metadata": {},
   "outputs": [
    {
     "data": {
      "text/html": [
       "<div>\n",
       "<style scoped>\n",
       "    .dataframe tbody tr th:only-of-type {\n",
       "        vertical-align: middle;\n",
       "    }\n",
       "\n",
       "    .dataframe tbody tr th {\n",
       "        vertical-align: top;\n",
       "    }\n",
       "\n",
       "    .dataframe thead th {\n",
       "        text-align: right;\n",
       "    }\n",
       "</style>\n",
       "<table border=\"1\" class=\"dataframe\">\n",
       "  <thead>\n",
       "    <tr style=\"text-align: right;\">\n",
       "      <th></th>\n",
       "      <th>0</th>\n",
       "    </tr>\n",
       "  </thead>\n",
       "  <tbody>\n",
       "    <tr>\n",
       "      <th>0</th>\n",
       "      <td>Latitude</td>\n",
       "    </tr>\n",
       "    <tr>\n",
       "      <th>1</th>\n",
       "      <td>Longitude</td>\n",
       "    </tr>\n",
       "    <tr>\n",
       "      <th>2</th>\n",
       "      <td>CouncilArea_Banyule City Council</td>\n",
       "    </tr>\n",
       "    <tr>\n",
       "      <th>3</th>\n",
       "      <td>CouncilArea_Bayside City Council</td>\n",
       "    </tr>\n",
       "    <tr>\n",
       "      <th>4</th>\n",
       "      <td>CouncilArea_Boroondara City Council</td>\n",
       "    </tr>\n",
       "    <tr>\n",
       "      <th>5</th>\n",
       "      <td>CouncilArea_Brimbank City Council</td>\n",
       "    </tr>\n",
       "    <tr>\n",
       "      <th>6</th>\n",
       "      <td>CouncilArea_Cardinia Shire Council</td>\n",
       "    </tr>\n",
       "    <tr>\n",
       "      <th>7</th>\n",
       "      <td>CouncilArea_Casey City Council</td>\n",
       "    </tr>\n",
       "    <tr>\n",
       "      <th>8</th>\n",
       "      <td>CouncilArea_Darebin City Council</td>\n",
       "    </tr>\n",
       "    <tr>\n",
       "      <th>9</th>\n",
       "      <td>CouncilArea_Frankston City Council</td>\n",
       "    </tr>\n",
       "    <tr>\n",
       "      <th>10</th>\n",
       "      <td>CouncilArea_Glen Eira City Council</td>\n",
       "    </tr>\n",
       "    <tr>\n",
       "      <th>11</th>\n",
       "      <td>CouncilArea_Greater Dandenong City Council</td>\n",
       "    </tr>\n",
       "    <tr>\n",
       "      <th>12</th>\n",
       "      <td>CouncilArea_Hobsons Bay City Council</td>\n",
       "    </tr>\n",
       "    <tr>\n",
       "      <th>13</th>\n",
       "      <td>CouncilArea_Hume City Council</td>\n",
       "    </tr>\n",
       "    <tr>\n",
       "      <th>14</th>\n",
       "      <td>CouncilArea_Kingston City Council</td>\n",
       "    </tr>\n",
       "    <tr>\n",
       "      <th>15</th>\n",
       "      <td>CouncilArea_Knox City Council</td>\n",
       "    </tr>\n",
       "    <tr>\n",
       "      <th>16</th>\n",
       "      <td>CouncilArea_Macedon Ranges Shire Council</td>\n",
       "    </tr>\n",
       "    <tr>\n",
       "      <th>17</th>\n",
       "      <td>CouncilArea_Manningham City Council</td>\n",
       "    </tr>\n",
       "    <tr>\n",
       "      <th>18</th>\n",
       "      <td>CouncilArea_Maribyrnong City Council</td>\n",
       "    </tr>\n",
       "    <tr>\n",
       "      <th>19</th>\n",
       "      <td>CouncilArea_Maroondah City Council</td>\n",
       "    </tr>\n",
       "    <tr>\n",
       "      <th>20</th>\n",
       "      <td>CouncilArea_Melbourne City Council</td>\n",
       "    </tr>\n",
       "    <tr>\n",
       "      <th>21</th>\n",
       "      <td>CouncilArea_Melton City Council</td>\n",
       "    </tr>\n",
       "    <tr>\n",
       "      <th>22</th>\n",
       "      <td>CouncilArea_Mitchell Shire Council</td>\n",
       "    </tr>\n",
       "    <tr>\n",
       "      <th>23</th>\n",
       "      <td>CouncilArea_Monash City Council</td>\n",
       "    </tr>\n",
       "    <tr>\n",
       "      <th>24</th>\n",
       "      <td>CouncilArea_Moonee Valley City Council</td>\n",
       "    </tr>\n",
       "    <tr>\n",
       "      <th>25</th>\n",
       "      <td>CouncilArea_Moorabool Shire Council</td>\n",
       "    </tr>\n",
       "    <tr>\n",
       "      <th>26</th>\n",
       "      <td>CouncilArea_Moreland City Council</td>\n",
       "    </tr>\n",
       "    <tr>\n",
       "      <th>27</th>\n",
       "      <td>CouncilArea_Nillumbik Shire Council</td>\n",
       "    </tr>\n",
       "    <tr>\n",
       "      <th>28</th>\n",
       "      <td>CouncilArea_Port Phillip City Council</td>\n",
       "    </tr>\n",
       "    <tr>\n",
       "      <th>29</th>\n",
       "      <td>CouncilArea_Stonnington City Council</td>\n",
       "    </tr>\n",
       "    <tr>\n",
       "      <th>30</th>\n",
       "      <td>CouncilArea_Whitehorse City Council</td>\n",
       "    </tr>\n",
       "    <tr>\n",
       "      <th>31</th>\n",
       "      <td>CouncilArea_Whittlesea City Council</td>\n",
       "    </tr>\n",
       "    <tr>\n",
       "      <th>32</th>\n",
       "      <td>CouncilArea_Wyndham City Council</td>\n",
       "    </tr>\n",
       "    <tr>\n",
       "      <th>33</th>\n",
       "      <td>CouncilArea_Yarra City Council</td>\n",
       "    </tr>\n",
       "    <tr>\n",
       "      <th>34</th>\n",
       "      <td>CouncilArea_Yarra Ranges Shire Council</td>\n",
       "    </tr>\n",
       "  </tbody>\n",
       "</table>\n",
       "</div>"
      ],
      "text/plain": [
       "                                             0\n",
       "0                                     Latitude\n",
       "1                                    Longitude\n",
       "2             CouncilArea_Banyule City Council\n",
       "3             CouncilArea_Bayside City Council\n",
       "4          CouncilArea_Boroondara City Council\n",
       "5            CouncilArea_Brimbank City Council\n",
       "6           CouncilArea_Cardinia Shire Council\n",
       "7               CouncilArea_Casey City Council\n",
       "8             CouncilArea_Darebin City Council\n",
       "9           CouncilArea_Frankston City Council\n",
       "10          CouncilArea_Glen Eira City Council\n",
       "11  CouncilArea_Greater Dandenong City Council\n",
       "12        CouncilArea_Hobsons Bay City Council\n",
       "13               CouncilArea_Hume City Council\n",
       "14           CouncilArea_Kingston City Council\n",
       "15               CouncilArea_Knox City Council\n",
       "16    CouncilArea_Macedon Ranges Shire Council\n",
       "17         CouncilArea_Manningham City Council\n",
       "18        CouncilArea_Maribyrnong City Council\n",
       "19          CouncilArea_Maroondah City Council\n",
       "20          CouncilArea_Melbourne City Council\n",
       "21             CouncilArea_Melton City Council\n",
       "22          CouncilArea_Mitchell Shire Council\n",
       "23             CouncilArea_Monash City Council\n",
       "24      CouncilArea_Moonee Valley City Council\n",
       "25         CouncilArea_Moorabool Shire Council\n",
       "26           CouncilArea_Moreland City Council\n",
       "27         CouncilArea_Nillumbik Shire Council\n",
       "28       CouncilArea_Port Phillip City Council\n",
       "29        CouncilArea_Stonnington City Council\n",
       "30         CouncilArea_Whitehorse City Council\n",
       "31         CouncilArea_Whittlesea City Council\n",
       "32            CouncilArea_Wyndham City Council\n",
       "33              CouncilArea_Yarra City Council\n",
       "34      CouncilArea_Yarra Ranges Shire Council"
      ]
     },
     "execution_count": 25,
     "metadata": {},
     "output_type": "execute_result"
    }
   ],
   "source": [
    "columnsDF = list(Z.columns)\n",
    "columnsDF = pd.DataFrame(columnsDF)\n",
    "columnsDF"
   ]
  },
  {
   "cell_type": "markdown",
   "metadata": {},
   "source": [
    "#### 2.2.1 double lasso selection "
   ]
  },
  {
   "cell_type": "code",
   "execution_count": null,
   "metadata": {},
   "outputs": [],
   "source": [
    "# First Stage Selection \n",
    "# regress X on Z \n",
    "FsLassoReg1 = Lasso(alpha= 0.0005)\n",
    "FsLassoReg1.fit(Z,X)\n",
    "\n",
    "FsLassoReg2 = Lasso(alpha= 0.001)\n",
    "FsLassoReg2.fit(Z,X)\n",
    "\n",
    "FsLassoReg3 = Lasso(alpha= 0.005)\n",
    "FsLassoReg3.fit(Z,X)\n",
    "\n",
    "FsLassoReg4 = Lasso(alpha= 0.01)\n",
    "FsLassoReg4.fit(Z,X)\n"
   ]
  },
  {
   "cell_type": "code",
   "execution_count": null,
   "metadata": {},
   "outputs": [],
   "source": [
    "# Reduced Form Selection\n",
    "# regress y on Z \n",
    "RfLassoReg1 = Lasso(alpha= 0.0005)\n",
    "RfLassoReg1.fit(Z,y)\n",
    "\n",
    "RfLassoReg2 = Lasso(alpha= 0.001)\n",
    "RfLassoReg2.fit(Z,y)\n",
    "\n",
    "RfLassoReg3 = Lasso(alpha= 0.005)\n",
    "RfLassoReg3.fit(Z,y)\n",
    "\n",
    "RfLassoReg4 = Lasso(alpha= 0.01)\n",
    "RfLassoReg4.fit(Z,y)"
   ]
  },
  {
   "cell_type": "code",
   "execution_count": null,
   "metadata": {
    "scrolled": false
   },
   "outputs": [],
   "source": [
    "# create data frame with coefficients 1\n",
    "FsCoef1 =FsLassoReg1.coef_\n",
    "RfCoef1 = RfLassoReg1.coef_\n",
    "# create data frame\n",
    "df1 = pd.DataFrame(data=[FsCoef1, RfCoef1])\n",
    "df1 = df1.T\n",
    "df1 = df1.rename(columns={0:\"Fs1\", 1:\"Rs1\"})"
   ]
  },
  {
   "cell_type": "code",
   "execution_count": null,
   "metadata": {},
   "outputs": [],
   "source": [
    "# create data frame with coefficients 2\n",
    "FsCoef2 = FsLassoReg2.coef_\n",
    "RfCoef2 = RfLassoReg2.coef_\n",
    "# create data frame\n",
    "df2 = pd.DataFrame(data=[FsCoef2, RfCoef2])\n",
    "df2 = df2.T\n",
    "df2 = df2.rename(columns={0:\"Fs2\", 1:\"Rs2\"})"
   ]
  },
  {
   "cell_type": "code",
   "execution_count": null,
   "metadata": {},
   "outputs": [],
   "source": [
    "# create data frame with coefficients 3\n",
    "FsCoef3 =FsLassoReg3.coef_\n",
    "RfCoef3 = RfLassoReg3.coef_\n",
    "# create data frame\n",
    "df3 = pd.DataFrame(data=[FsCoef3, RfCoef3])\n",
    "df3 = df3.T\n",
    "df3 = df3.rename(columns={0:\"Fs3\", 1:\"Rs3\"})"
   ]
  },
  {
   "cell_type": "code",
   "execution_count": null,
   "metadata": {
    "scrolled": false
   },
   "outputs": [],
   "source": [
    "# create data frame with coefficients 4\n",
    "FsCoef4 =FsLassoReg4.coef_\n",
    "RfCoef4 = RfLassoReg4.coef_\n",
    "# create data frame\n",
    "df4 = pd.DataFrame(data=[FsCoef4, RfCoef4])\n",
    "df4 = df4.T\n",
    "df4 = df4.rename(columns={0:\"Fs4\", 1:\"Rs4\"})"
   ]
  },
  {
   "cell_type": "code",
   "execution_count": null,
   "metadata": {
    "scrolled": false
   },
   "outputs": [],
   "source": [
    "# combine all data frames of selection Process\n",
    "PDSResults = pd.concat([df1, df2, df3, df4], axis=1)\n",
    "PDSResults.index=['Latitude', 'Longitude', 'CouncilArea_Banyule City Council', 'CouncilArea_Bayside City Council', 'CouncilArea_Boroondara City Council', 'CouncilArea_Brimbank City Council', 'CouncilArea_Cardinia Shire Council', 'CouncilArea_Casey City Council', 'CouncilArea_Darebin City Council', 'CouncilArea_Frankston City Council', 'CouncilArea_Glen Eira City Council', 'CouncilArea_Greater Dandenong City Council', 'CouncilArea_Hobsons Bay City Council', 'CouncilArea_Hume City Council', 'CouncilArea_Kingston City Council', 'CouncilArea_Knox City Council', 'CouncilArea_Macedon Ranges Shire Council', 'CouncilArea_Manningham City Council', 'CouncilArea_Maribyrnong City Council', 'CouncilArea_Maroondah City Council', 'CouncilArea_Melbourne City Council', 'CouncilArea_Melton City Council', 'CouncilArea_Mitchell Shire Council', 'CouncilArea_Monash City Council', 'CouncilArea_Moonee Valley City Council', 'CouncilArea_Moorabool Shire Council', 'CouncilArea_Moreland City Council', 'CouncilArea_Nillumbik Shire Council', 'CouncilArea_Port Phillip City Council', 'CouncilArea_Stonnington City Council', 'CouncilArea_Whitehorse City Council', 'CouncilArea_Whittlesea City Council', 'CouncilArea_Wyndham City Council', 'CouncilArea_Yarra City Council','CouncilArea_Yarra Ranges Shire Council']\n",
    "PDSResults"
   ]
  },
  {
   "cell_type": "code",
   "execution_count": null,
   "metadata": {},
   "outputs": [],
   "source": [
    "# choose coefficients \n",
    "### Z1\n",
    "Z1 = df.drop([\"Price\", \"CouncilArea_Macedon Ranges Shire Council\", \"CouncilArea_Maroondah City Council\", \n",
    "\"CouncilArea_Mitchell Shire Council\", \"CouncilArea_Nillumbik Shire Council\",\n",
    "\"CouncilArea_Yarra Ranges Shire Council\"], axis=1)\n",
    "\n",
    "### Z2\n",
    "Z2 = df.drop([\"Price\", \"CouncilArea_Cardinia Shire Council\",\"CouncilArea_Macedon Ranges Shire Council\",\n",
    "            \"CouncilArea_Maroondah City Council\",\"CouncilArea_Mitchell Shire Council\",\n",
    "            \"CouncilArea_Moorabool Shire Council\",\"CouncilArea_Yarra Ranges Shire Council\"], axis=1)\n",
    "\n",
    "### Z3\n",
    "Z3 = df.drop([\"Price\", \"Latitude\", \"CouncilArea_Banyule City Council\",  \"CouncilArea_Cardinia Shire Council\",  \n",
    "             \"CouncilArea_Casey City Council\",  \"CouncilArea_Frankston City Council\",  \n",
    "             \"CouncilArea_Greater Dandenong City Council\",  \"CouncilArea_Hobsons Bay City Council\",  \n",
    "             \"CouncilArea_Kingston City Council\",  \"CouncilArea_Knox City Council\",  \n",
    "             \"CouncilArea_Macedon Ranges Shire Council\",  \"CouncilArea_Maroondah City Council\", \n",
    "             \"CouncilArea_Mitchell Shire Council\",  \"CouncilArea_Moorabool Shire Council\",  \n",
    "             \"CouncilArea_Nillumbik Shire Council\",  \"CouncilArea_Whitehorse City Council\",  \n",
    "             \"CouncilArea_Yarra Ranges Shire Council\"], axis=1)\n",
    "\n",
    "### Z4\n",
    "Z4 = df[[\"const\",\"Rooms\",\"Longitude\", \"CouncilArea_Bayside City Council\", \n",
    "       \"CouncilArea_Boroondara City Council\", \"CouncilArea_Brimbank City Council\",  \n",
    "       \"CouncilArea_Darebin City Council\", \"CouncilArea_Glen Eira City Council\",  \n",
    "       \"CouncilArea_Hobsons Bay City Council\", \"CouncilArea_Manningham City Council\",  \n",
    "       \"CouncilArea_Maribyrnong City Council\", \"CouncilArea_Melbourne City Council\",  \n",
    "       \"CouncilArea_Monash City Council\", \"CouncilArea_Moreland City Council\",  \n",
    "       \"CouncilArea_Port Phillip City Council\", \"CouncilArea_Stonnington City Council\",  \n",
    "       \"CouncilArea_Whitehorse City Council\", \"CouncilArea_Yarra City Council\"]]\n"
   ]
  },
  {
   "cell_type": "markdown",
   "metadata": {},
   "source": [
    "#### 2.2.2 Final Linear Regression "
   ]
  },
  {
   "cell_type": "code",
   "execution_count": null,
   "metadata": {},
   "outputs": [],
   "source": [
    "# Estimate an OLS regression for each set of variables\n",
    "regZ1 = sm.OLS(y, Z1).fit()\n",
    "regZ2 = sm.OLS(y, Z2).fit()\n",
    "regZ3 = sm.OLS(y, Z3).fit()\n",
    "regZ4 = sm.OLS(y, Z4).fit()"
   ]
  },
  {
   "cell_type": "code",
   "execution_count": null,
   "metadata": {
    "scrolled": false
   },
   "outputs": [],
   "source": [
    "# Summary of all regressions\n",
    "info_dict={'No. observations' : lambda x: f\"{int(x.nobs):d}\"}\n",
    "\n",
    "results_table = summary_col(results=[regRo, regRo2, regRo3, regZ1,regZ2,regZ3, regZ4],\n",
    "                            float_format='%0.4f',\n",
    "                            stars = True,\n",
    "                            model_names=[\"Model R1\", \"Model R2\", \"Model R3\",'Model Z1','Model Z2','Model Z3', \"Model Z4\"],\n",
    "                            info_dict=info_dict,\n",
    "                            regressor_order=['const',\"Rooms\",'Latitude','Longitude'])\n",
    "\n",
    "results_table\n",
    "\n",
    "# last variable misssing due to OLS (dummy trap)"
   ]
  },
  {
   "cell_type": "code",
   "execution_count": null,
   "metadata": {},
   "outputs": [],
   "source": [
    "#print(\"Adjusted R^2 for Simple Regression:\", regRo.rsquared_adj)\n",
    "#print(\"Adjusted R^2 for Regression Lat&Long:\",regRo2.rsquared_adj)\n",
    "#print(\"Adjusted R^2 for Multiple Regression:\",regRo3.rsquared_adj)\n",
    "#print(\"-----------------\")\n",
    "#print(\"Adjusted R^2 for PDS with alpha 0.0005:\",regZ1.rsquared_adj)\n",
    "#print(\"Adjusted R^2 for PDS with alpha 0.001:\",regZ2.rsquared_adj)\n",
    "#print(\"Adjusted R^2 for PDS with alpha 0.005:\",regZ3.rsquared_adj)\n",
    "#print(\"Adjusted R^2 for PDS with alpha 0.01:\",regZ4.rsquared_adj)"
   ]
  }
 ],
 "metadata": {
  "kernelspec": {
   "display_name": "Python 3",
   "language": "python",
   "name": "python3"
  },
  "language_info": {
   "codemirror_mode": {
    "name": "ipython",
    "version": 3
   },
   "file_extension": ".py",
   "mimetype": "text/x-python",
   "name": "python",
   "nbconvert_exporter": "python",
   "pygments_lexer": "ipython3",
   "version": "3.7.6"
  }
 },
 "nbformat": 4,
 "nbformat_minor": 4
}
